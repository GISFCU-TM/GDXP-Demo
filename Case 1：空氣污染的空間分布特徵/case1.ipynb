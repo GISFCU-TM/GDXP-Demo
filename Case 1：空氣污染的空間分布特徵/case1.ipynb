{
 "cells": [
  {
   "cell_type": "markdown",
   "id": "4e0a98fe-3dcc-43a7-b947-19a1ccf677ba",
   "metadata": {},
   "source": [
    "## Case 1：空氣污染的空間分布特徵"
   ]
  },
  {
   "cell_type": "markdown",
   "id": "9833df50-7d9c-4bb4-a134-17a5057c9d18",
   "metadata": {},
   "source": [
    "#### 本案例將提供使用者於衛星影像上框選目標區域，觀察及計算空氣污染指標 "
   ]
  },
  {
   "cell_type": "markdown",
   "id": "2ad5154e-7fdc-4857-beb6-4a6db88d08aa",
   "metadata": {},
   "source": [
    "<div style=\"display: inline-block;\">\n",
    "    <img src=\"https://github.com/GISFCU-TM/GDXP-Demo/blob/main/CO_avg.png?raw=true\" alt=\"CO_avg\" width=\"440\"/>\n",
    "</div>"
   ]
  },
  {
   "cell_type": "markdown",
   "id": "b6fdc339-dd4d-4132-a620-325d5e5e1ea5",
   "metadata": {},
   "source": [
    "本案例使用之空氣污染圖資係由國立成功大學測量及空間資訊學系吳治達副教授團隊，基於「地理空間人工智慧(Geo-AI)」技術所發展之「集成混合空間推估模型(Ensemble Mixed Spatial Prediction Model, EMSM)」進行空污分布模擬之成果，相關學術發表見以下連結： \n",
    "\n",
    "PM2.5模型成果：DOI: 10.1016/j.scitotenv.2022.161336，\n",
    "\n",
    "NO2模型成果：DOI: doi.org/10.1016/j.jclepro.2021.128411，\n",
    "\n",
    "O3模型成果：DOI: 10.1016/j.jhazmat.2023.130749，\n",
    "\n",
    "Benzene模型成果：DOI: 10.1016/j.chemosphere.2022.134758"
   ]
  },
  {
   "cell_type": "code",
   "execution_count": 1,
   "id": "d69184ca-2aa5-4772-8944-0f537f87459d",
   "metadata": {},
   "outputs": [],
   "source": [
    "import matplotlib # 用來顯示影像及繪圖\n",
    "matplotlib.rc('font', family='Microsoft JhengHei') # 設定中文字形\n",
    "# 設定matplotlib的後端\n",
    "matplotlib.use('TkAgg')\n",
    "\n",
    "from PIL import Image, ImageDraw # 用來讀取影像及繪圖\n",
    "from io import BytesIO  # 用來將response內容轉成PIL可讀的格式\n",
    "import matplotlib.pyplot as plt\n",
    "from matplotlib.patches import Polygon\n",
    "\n",
    "import requests # 用來發送HTTP Request\n",
    "import numpy as np # 用來做數值運算\n",
    "import urllib3\n",
    "urllib3.disable_warnings()"
   ]
  },
  {
   "cell_type": "code",
   "execution_count": 8,
   "id": "8378ff0d-862a-4b38-887c-7326a00fdaa7",
   "metadata": {},
   "outputs": [],
   "source": [
    "#GDXP帳號及介接安全碼\n",
    "%store -r username\n",
    "%store -r token\n",
    "#GDXP URL\n",
    "%store -r gdxp1\n",
    "%store -r gdxp3"
   ]
  },
  {
   "cell_type": "code",
   "execution_count": 9,
   "id": "4bb8c9c3-12d5-46e6-b3ca-465aed6047de",
   "metadata": {},
   "outputs": [],
   "source": [
    "#空污圖資(實際資料)\n",
    "queryair='''\n",
    "for $c in ( taiwan_air_quality_monitoring_data_co )\n",
    "let $sub := [ansi(\"2021-01-01T00:00:00.000Z\"),X(241996:255080), Y(2738036:2750180)]\n",
    " return encode(\n",
    "             $c[ $sub ]                   \n",
    "        , \"tiff\")'''"
   ]
  },
  {
   "cell_type": "code",
   "execution_count": 10,
   "id": "e8129541-8b27-49ca-9a20-07ead718b5ae",
   "metadata": {},
   "outputs": [],
   "source": [
    "#空污圖資(展示用)\n",
    "#將數值區間轉為0-255並使用colortable設定色彩樣式\n",
    "queryairpng='''\n",
    "for $c in ( taiwan_air_quality_monitoring_data_co )\n",
    "let $sub := [ansi(\"2021-01-01T00:00:00.000Z\"),X(241996:255080), Y(2738036:2750180)]\n",
    " return encode(\n",
    "              ($c[ $sub ] - min($c[ $sub ])) / (max($c[ $sub ]) - min($c[ $sub ])) * 255                    \n",
    "        , \"png\",\n",
    "        \"{\\\\\\\"colorMap\\\\\\\":{\\\\\\\"type\\\\\\\":\\\\\\\"intervals\\\\\\\",\n",
    "        \\\\\\\"colorTable\\\\\\\":\n",
    "        {\\\\\\\"0\\\\\\\":[255, 235, 230,145],\\\\\\\"50\\\\\\\":[255, 173, 153,145],\n",
    "        \\\\\\\"100\\\\\\\":[255, 71, 26,145],\\\\\\\"150\\\\\\\":[230, 46, 0,145],\n",
    "        \\\\\\\"200\\\\\\\":[179, 36, 0,145],\\\\\\\"250\\\\\\\":[128, 26, 0,145]}}}\"\n",
    "        )'''"
   ]
  },
  {
   "cell_type": "code",
   "execution_count": 11,
   "id": "a2045490-34d6-4e4a-9e5f-83b6b260ab02",
   "metadata": {},
   "outputs": [],
   "source": [
    "#福衛五號影像(展示用)\n",
    "queryFS5='''\n",
    "for $c in ( FS5_MS_NSPO )\n",
    "let $sub := [X(241996:255080), Y(2738036:2750180),ansi(\"2018-12-17T02:58:13.000Z\")]\n",
    " return encode({\n",
    "             b1: $c.band1_red[$sub]/12;\n",
    "             b2: $c.band2_green[$sub]/12;\n",
    "             b3: $c.band3_blue[$sub]/12\n",
    "             }\n",
    "        , \"png\")'''"
   ]
  },
  {
   "cell_type": "code",
   "execution_count": 12,
   "id": "9fcbb785-a27f-4d21-bb4a-b61554f8cbc9",
   "metadata": {},
   "outputs": [],
   "source": [
    "# 送出 request\n",
    "response = requests.post(gdxp1, data = {'query': queryair}, verify=False, auth = (username, token))\n",
    "responsepng = requests.post(gdxp1, data = {'query': queryairpng}, verify=False, auth = (username, token))\n",
    "responsefs5 = requests.post(gdxp3, data = {'query': queryFS5}, verify=False, auth = (username, token))\n",
    "\n",
    "# 將 Response 轉成 PIL Image可讀的型態\n",
    "airimg = Image.open(BytesIO(response.content))\n",
    "imgpng = Image.open(BytesIO(responsepng.content))\n",
    "imgfs5 = Image.open(BytesIO(responsefs5.content))  "
   ]
  },
  {
   "cell_type": "code",
   "execution_count": 13,
   "id": "2b787abe-9b03-443c-8d25-01bdba9291bd",
   "metadata": {},
   "outputs": [
    {
     "data": {
      "image/png": "[encoded data removed]",
      "text/plain": [
       "<PIL.PngImagePlugin.PngImageFile image mode=RGBA size=262x243>"
      ]
     },
     "execution_count": 13,
     "metadata": {},
     "output_type": "execute_result"
    }
   ],
   "source": [
    "Image.open(BytesIO(responsepng.content))"
   ]
  },
  {
   "cell_type": "code",
   "execution_count": 14,
   "id": "ad4ed738-8f59-4db4-b927-1616b6db08b2",
   "metadata": {},
   "outputs": [],
   "source": [
    "# 定義函式計算空污濃度平均值\n",
    "def calculate_channel_average(image, polygons):\n",
    "    mask = Image.new('1', image.size, 0)\n",
    "    \n",
    "    average_colors = []\n",
    "\n",
    "    for polygon_points in polygons:\n",
    "        ImageDraw.Draw(mask).polygon(polygon_points, outline=1, fill=1)\n",
    "        mask_arr = np.array(mask)\n",
    "        channel_data = np.array(image)[:, :]\n",
    "        channel_pixels = channel_data[mask_arr == 1]\n",
    "        \n",
    "        if len(channel_pixels) == 0:\n",
    "            average_colors.append(None)\n",
    "        else:\n",
    "            average_color = np.mean(channel_pixels)\n",
    "            average_colors.append(average_color)\n",
    "\n",
    "    return average_colors"
   ]
  },
  {
   "cell_type": "code",
   "execution_count": 15,
   "id": "76e59e85-9d4c-41f3-bcf2-779ee80f9eef",
   "metadata": {},
   "outputs": [
    {
     "name": "stdout",
     "output_type": "stream",
     "text": [
      "一氧化碳平均值: [0.4649696, 0.53592664] ppm\n"
     ]
    }
   ],
   "source": [
    "# 福衛五號影像(展示用)\n",
    "imgfs5 = imgfs5.convert(\"RGBA\")\n",
    "\n",
    "# 讀取空氣汙染圖(展示用)，resize成與福衛五號影像相同的大小\n",
    "imgpng_resized = imgpng.resize(imgfs5.size, Image.LANCZOS)\n",
    "\n",
    "\n",
    "# 讀取實際空氣汙染指標\n",
    "airimg = airimg.resize(imgfs5.size, Image.LANCZOS)\n",
    "fig, ax = plt.subplots(figsize=(14, 8))  # 設定繪圖介面的大小\n",
    "\n",
    "ax.imshow(imgfs5)\n",
    "ax.axis('off')\n",
    "plt.title('框選範圍以計算一氧化碳濃度(按Enter結束繪製)')\n",
    "polygons_list = []  # 儲存多個polygon的點\n",
    "while True:\n",
    "   \n",
    "    x = plt.ginput(0, timeout=-1)  # 點擊多個點，不限制數量\n",
    "\n",
    "    if not x:  # 如果按下Enter，退出循環\n",
    "        break\n",
    "\n",
    "    polygons_list.append(x)  # 儲存多邊形的點\n",
    "    poly_patch = Polygon(x, closed=True, fill=None, edgecolor='m')  # 建立多邊形物件\n",
    "    ax.add_patch(poly_patch)  # 將多邊形加到圖中\n",
    "\n",
    "# 將多個polygon裁切並套疊在圖上\n",
    "for polygon in polygons_list:\n",
    "    mask = Image.new('L', imgfs5.size, 0)\n",
    "    draw = ImageDraw.Draw(mask)\n",
    "    draw.polygon(polygon, fill=255)\n",
    "    imgpng_resized_alpha = imgpng_resized.copy()\n",
    "    imgfs5.paste(imgpng_resized_alpha, (0, 0), mask) \n",
    "    \n",
    "plt.imshow(imgfs5)\n",
    "\n",
    "\n",
    "average_colors = calculate_channel_average(airimg, polygons_list)\n",
    "# 將平均值標註在影像上\n",
    "for i, avg_color in enumerate(average_colors):\n",
    "    if avg_color is not None:\n",
    "        x, y = polygons_list[i][0]  #取第一點為標註位置\n",
    "        \n",
    "        # 標註文字內容及樣式\n",
    "        annotation_text = f'Avg: {avg_color:.2f} ppm'        \n",
    "        bbox_style = dict(boxstyle='square,pad=0.2', facecolor='white', edgecolor='none', alpha=0.7)       \n",
    "        plt.annotate(annotation_text, (x, y), color='black', fontsize=9, fontweight='bold', bbox=bbox_style)\n",
    "\n",
    "plt.show(block = False)\n",
    "\n",
    "print(\"一氧化碳平均值:\", average_colors, \"ppm\")\n"
   ]
  },
  {
   "cell_type": "code",
   "execution_count": null,
   "id": "fbc1630c-ebf8-4310-b913-357caad7723e",
   "metadata": {},
   "outputs": [],
   "source": []
  }
 ],
 "metadata": {
  "kernelspec": {
   "display_name": "Python 3 (ipykernel)",
   "language": "python",
   "name": "python3"
  },
  "language_info": {
   "codemirror_mode": {
    "name": "ipython",
    "version": 3
   },
   "file_extension": ".py",
   "mimetype": "text/x-python",
   "name": "python",
   "nbconvert_exporter": "python",
   "pygments_lexer": "ipython3",
   "version": "3.10.9"
  }
 },
 "nbformat": 4,
 "nbformat_minor": 5
}
